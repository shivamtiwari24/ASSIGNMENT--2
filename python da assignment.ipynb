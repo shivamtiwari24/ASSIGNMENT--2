{
 "cells": [
  {
   "cell_type": "code",
   "execution_count": 1,
   "id": "a2d1c024-a3e6-44b2-bdd7-c93403e6e933",
   "metadata": {},
   "outputs": [],
   "source": [
    "#Discuss string slicing and provide examples.\n",
    "\n",
    "#Ans.It follows the format string[start:end], \n",
    "#where start is the index where slicing begins (inclusive) and end is the index where it ends (exclusive).\n",
    "#For example, with the\n",
    "# string my_string = \"Hello, World!\",\n",
    "#    if you use my_string[7:12], \n",
    "#    it will return \"World\".\n",
    "# If you omit start, it starts from the beginning of the string."
   ]
  },
  {
   "cell_type": "code",
   "execution_count": 5,
   "id": "6ad6393f-69e2-4f01-9db1-3628a8495939",
   "metadata": {},
   "outputs": [],
   "source": [
    "#Explain the key features of lists in python.\n",
    "\n",
    "\n",
    "#Ans.Lists are mutable and dynamic; list items can be added, removed or changed after the list is defined. Lists are ordered; newly added items will be placed at the end of the list. Lists use zero-based indexing; every list item has an associated index, and The first item's index is 0.\n",
    "\n"
   ]
  },
  {
   "cell_type": "code",
   "execution_count": 6,
   "id": "71b4f0f4-c708-4bd9-989b-c66ba3429553",
   "metadata": {},
   "outputs": [
    {
     "name": "stdout",
     "output_type": "stream",
     "text": [
      "Original List is : ['Iris', 'Orchids', 'Rose', 'Lavender', 'Lily', 'Carnations']\n",
      "After deleting the item : ['Iris', 'Rose', 'Lavender', 'Lily', 'Carnations']\n"
     ]
    }
   ],
   "source": [
    "#Describe how to access,modify and delete elements in a list with examples.\n",
    "\n",
    "# Ans. Python list elements are ordered by index, a number referring to their placement in the list. List indices start at 0 and increment by one. To access a list element by index,\n",
    "# square bracket notation is used: list[index] .\n",
    "# Modify an Item Within a List in Python\n",
    "#Remove an Item from a List\n",
    "#We will use a different method to Remove Elements from the List in Python:\n",
    "\n",
    "#Using Python remove()\n",
    "#Using Python del\n",
    "#Using Python List comprehension\n",
    "#Using Python pop() \n",
    "#Using Python discard()\n",
    "#Using Python filter()\n",
    "#Using Python List Slicing\n",
    "lst = ['Iris', 'Orchids', 'Rose', 'Lavender',\n",
    "\t'Lily', 'Carnations']\n",
    "print(\"Original List is :\", lst)\n",
    "\n",
    "# using remove()\n",
    "lst.remove('Orchids')\n",
    "print(\"After deleting the item :\", lst)"
   ]
  },
  {
   "cell_type": "code",
   "execution_count": 7,
   "id": "d784a9e6-a337-41d5-8ecb-f3d0140e25b7",
   "metadata": {},
   "outputs": [
    {
     "name": "stdout",
     "output_type": "stream",
     "text": [
      "Original List is : ['Iris', 'Orchids', 'Rose', 'Lavender', 'Lily', 'Carnations']\n",
      "After deleting the item : ['Iris', 'Rose', 'Lavender', 'Lily', 'Carnations']\n"
     ]
    }
   ],
   "source": [
    "lst = ['Iris', 'Orchids', 'Rose', 'Lavender',\n",
    "\t'Lily', 'Carnations']\n",
    "print(\"Original List is :\", lst)\n",
    "\n",
    "# using del statement\n",
    "# to delete item (Orchids at index 1)\n",
    "# from the list\n",
    "del lst[1]\n",
    "print(\"After deleting the item :\", lst)"
   ]
  },
  {
   "cell_type": "code",
   "execution_count": 8,
   "id": "80e491be-04dd-4c6c-8938-e1d8411cceef",
   "metadata": {},
   "outputs": [
    {
     "name": "stdout",
     "output_type": "stream",
     "text": [
      "original list : [1, 9, 8, 4, 9, 2, 9]\n",
      "List after element removal is : [1, 8, 4, 2]\n"
     ]
    }
   ],
   "source": [
    "# Python program to remove given element from the list\n",
    "list1 = [1, 9, 8, 4, 9, 2, 9]\n",
    "\t\n",
    "# Printing initial list\n",
    "print (\"original list : \"+ str(list1))\n",
    "\n",
    "# using List Comprehension\n",
    "# to remove list element 9\n",
    "list1 = [ele for ele in list1 if ele != 9]\n",
    "\t\n",
    "# Printing list after removal\n",
    "print (\"List after element removal is : \" + str(list1))"
   ]
  },
  {
   "cell_type": "code",
   "execution_count": 9,
   "id": "a7f8b161-51d1-4dc2-861c-8eab37b05bef",
   "metadata": {},
   "outputs": [
    {
     "name": "stdout",
     "output_type": "stream",
     "text": [
      "Original List is : ['Iris', 'Orchids', 'Rose', 'Lavender', 'Lily', 'Carnations']\n",
      "Item popped : Orchids\n",
      "After deleting the item : ['Iris', 'Rose', 'Lavender', 'Lily', 'Carnations']\n"
     ]
    }
   ],
   "source": [
    "lst = ['Iris', 'Orchids', 'Rose', 'Lavender',\n",
    "\t'Lily', 'Carnations']\n",
    "print(\"Original List is :\", lst)\n",
    "\n",
    "# using pop() to delete item \n",
    "# ('Orchids' at index 1) from the list\n",
    "a = lst.pop(1)\n",
    "print(\"Item popped :\", a)\n",
    "print(\"After deleting the item :\", lst)"
   ]
  },
  {
   "cell_type": "code",
   "execution_count": 10,
   "id": "1a9ac102-1bba-4c9e-9f94-fb58705790d7",
   "metadata": {},
   "outputs": [
    {
     "name": "stdout",
     "output_type": "stream",
     "text": [
      "Original List is : ['Iris', 'Orchids', 'Rose', 'Lavender', 'Lily', 'Carnations']\n",
      "List after element removal is : ['Rose', 'Lavender', 'Carnations', 'Iris', 'Lily']\n"
     ]
    }
   ],
   "source": [
    "# Python program to remove given element from the list\n",
    "lst = ['Iris', 'Orchids', 'Rose', 'Lavender',\n",
    "\t'Lily', 'Carnations']\n",
    "print(\"Original List is :\", lst)\n",
    "\n",
    "# using discard() method to remove list element 'orchids'\n",
    "lst = set(lst)\n",
    "lst.discard('Orchids')\n",
    "\n",
    "# Converting set back to list\n",
    "lst=list(lst)\n",
    "\n",
    "print(\"List after element removal is :\", lst)"
   ]
  },
  {
   "cell_type": "code",
   "execution_count": 11,
   "id": "f6b38b98-932c-42e8-a248-7be8e859ba2d",
   "metadata": {},
   "outputs": [
    {
     "name": "stdout",
     "output_type": "stream",
     "text": [
      "Original List is : ['Iris', 'Orchids', 'Rose', 'Lavender', 'Lily', 'Carnations']\n",
      "List after element removal is : ['Iris', 'Rose', 'Lavender', 'Lily', 'Carnations']\n"
     ]
    }
   ],
   "source": [
    "# Python program to remove given element from the list\n",
    "lst = ['Iris', 'Orchids', 'Rose', 'Lavender',\n",
    "\t'Lily', 'Carnations']\n",
    "print(\"Original List is :\", lst)\n",
    "\n",
    "# using discard() method to remove list element 'orchids'\n",
    "lst1 = filter(lambda item: item!='Orchids',lst)\n",
    "\n",
    "print(\"List after element removal is :\", list(lst1))"
   ]
  },
  {
   "cell_type": "code",
   "execution_count": 12,
   "id": "f4537b82-e876-4bed-8df5-5229c7f40126",
   "metadata": {},
   "outputs": [
    {
     "name": "stdout",
     "output_type": "stream",
     "text": [
      "[1, 2, 4, 5]\n"
     ]
    }
   ],
   "source": [
    "my_list = [1, 2, 3, 4, 5]\n",
    "my_list = my_list[:2] + my_list[3:]\n",
    "print(my_list) # Output: [1, 2, 4, 5]"
   ]
  },
  {
   "cell_type": "code",
   "execution_count": 13,
   "id": "6aa4d8c5-ae49-4642-a931-2f5816ade77f",
   "metadata": {},
   "outputs": [
    {
     "name": "stdout",
     "output_type": "stream",
     "text": [
      "Original List is : [1, 9, 8, 4, 9, 2, 9]\n",
      "List after element removal is : [1, 8, 4, 2]\n"
     ]
    }
   ],
   "source": [
    "import itertools\n",
    "\n",
    "lst = [1, 9, 8, 4, 9, 2, 9]\n",
    "print(\"Original List is :\", lst)\n",
    "\n",
    "# itertools.filterfalse() to filter out all occurrences of 9 from the list\n",
    "lst_filtered = list(itertools.filterfalse(lambda x: x == 9, lst))\n",
    "print(\"List after element removal is :\", lst_filtered)\n",
    "#this code is contributed by Jyothi pinjala."
   ]
  },
  {
   "cell_type": "code",
   "execution_count": 14,
   "id": "384b3623-93b3-43f3-8007-20fc137e8359",
   "metadata": {},
   "outputs": [],
   "source": [
    "#Compare and contrast tuples and lists with examples.\n",
    "\n",
    "#Ans.Use a list if you need a mutable collection of items where you may need to add, remove, or change elements. Lists are more flexible and have more built-in methods,making them ideal for dynamic collections. Use a tuple if you need an immutablecollection where the elements won't change after creation."
   ]
  },
  {
   "cell_type": "code",
   "execution_count": 15,
   "id": "47d3f432-2cd8-4759-8286-465418cc7d54",
   "metadata": {},
   "outputs": [],
   "source": [
    "# Q5.Describe the key features of sets and provide examples of their uses.\n",
    "\n",
    "\n",
    "# Ans.A set is represented by a capital letter symbol and the number of elements in the finite set is represented as the cardinal number of a set in a curly bracket {…}. \n",
    "#For example, set A is a collection of all the natural numbers,\n",
    "#such as A = {1,2,3,4,5,6,7,8,…..∞}. "
   ]
  },
  {
   "cell_type": "code",
   "execution_count": 16,
   "id": "5f2e3593-d348-4e7c-8d8d-a540aa0335b3",
   "metadata": {},
   "outputs": [],
   "source": [
    "#Discuss the use cases of tuples and sets in python programming.\n",
    "\n",
    "#Ans.Tuples are used to store multiple items in a single variable. Tuple is one of 4 built-in data types in Python used to store collections of data, the other 3 are List, Set, and Dictionary, all with different qualities and usage. A tuple is a collection which is orderedand unchangeable.\n",
    "# A common use of sets in Python is computing standard math operations such as union,intersection, difference, and symmetric difference. The image below shows a couplestandard math operations on two sets A and B. The red part of each Venn diagram isthe resulting set of a given set operation"
   ]
  },
  {
   "cell_type": "code",
   "execution_count": 18,
   "id": "c4f3d243-530a-4ae8-bca1-c485ff7d6ba1",
   "metadata": {},
   "outputs": [
    {
     "ename": "IndentationError",
     "evalue": "unexpected indent (741435700.py, line 4)",
     "output_type": "error",
     "traceback": [
      "\u001b[0;36m  Cell \u001b[0;32mIn[18], line 4\u001b[0;36m\u001b[0m\n\u001b[0;31m    Method 1: Using The Assignment Operator. ...\u001b[0m\n\u001b[0m    ^\u001b[0m\n\u001b[0;31mIndentationError\u001b[0m\u001b[0;31m:\u001b[0m unexpected indent\n"
     ]
    }
   ],
   "source": [
    "#Describe how to add, modify, and delete items in a dictionary with examples.\n",
    "\n",
    "#Ans.How to Add an Item to a Dictionary in Python\n",
    " Method 1: Using The Assignment Operator. ...\n",
    " Method 2: Using update() ...\n",
    " Method 3: Using dict() Constructor. ...\n",
    " Method 4: Using __setitem__ ...\n",
    " Method 5: Using The ** Operator. ...\n",
    " Method 6: Checking If A Key Exists. ...\n",
    " Method 7: Using A For Loop. ...\n",
    " Method 8: Using zip.\n",
    " How to modify a dictionary Python\n",
    " ● Toupdate a dictionary in Python, you can use the update() method, like dict1.\n",
    " update({'b': 3, 'c': 4}) . This method allows you to add new items or change the\n",
    " value of existing items in a Python dictionary. In this example, we have a\n",
    " dictionary dict1 with keys 'a' and 'b'.\n",
    " How to remove a key from a Python dictionary.\n",
    " To remove a key from a dictionary, you can use the del statement. Here's an example:\n",
    " my_dict = {'a': 1, 'b': 2, 'c': 3} del my_dict['b'] print(my_dict) # Output: {'a': 1, 'c': 3}\n",
    " Alternatively,"
   ]
  },
  {
   "cell_type": "code",
   "execution_count": null,
   "id": "0c6802ce-e1f6-474c-b02e-03465ec73105",
   "metadata": {},
   "outputs": [],
   "source": [
    "#Discuss the importance of dictionary keys being immutable and provide examples.\n",
    "\n",
    "#Ans.In a dictionary, the key part must be immutable. This means that once a key is created, it cannot be changed. Immutability is essential for keys because it ensures that the dictionary can efficiently look up values based on their keys.If the key were a mutable object, its value could change, and thus its hash could also change. But sincewhoever changes the key object can't tell that it was being used as a dictionary key,it can't move the entry around in the dictionary"
   ]
  }
 ],
 "metadata": {
  "kernelspec": {
   "display_name": "Python 3 (ipykernel)",
   "language": "python",
   "name": "python3"
  },
  "language_info": {
   "codemirror_mode": {
    "name": "ipython",
    "version": 3
   },
   "file_extension": ".py",
   "mimetype": "text/x-python",
   "name": "python",
   "nbconvert_exporter": "python",
   "pygments_lexer": "ipython3",
   "version": "3.10.8"
  }
 },
 "nbformat": 4,
 "nbformat_minor": 5
}
